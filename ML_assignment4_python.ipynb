{
  "nbformat": 4,
  "nbformat_minor": 0,
  "metadata": {
    "colab": {
      "name": "ML_assignment4-python.ipynb",
      "provenance": [],
      "collapsed_sections": []
    },
    "kernelspec": {
      "name": "python3",
      "display_name": "Python 3"
    }
  },
  "cells": [
    {
      "cell_type": "code",
      "metadata": {
        "colab": {
          "base_uri": "https://localhost:8080/"
        },
        "id": "d0ioyw8n2M0D",
        "outputId": "84651261-d883-410d-ffb0-38763a171f07"
      },
      "source": [
        "# Python implementation of Assignment 3 part 2 code all combined \n",
        "import numpy as np\n",
        "import timeit\n",
        "\n",
        "start = timeit.default_timer()\n",
        "m=[500, 50, 6]\n",
        "n=[500, 20, 4000]\n",
        "k=[400, 50, 9]\n",
        "c=[100, 5000, 1000] \n",
        "\n",
        "for i in range (3):\n",
        "  b = np.random.rand(n[i],k[i])\n",
        "  for j in range (c[i]):\n",
        "    a = np.random.rand(m[i],n[i])\n",
        "    d = a.dot(b)\n",
        "\n",
        "stop = timeit.default_timer()\n",
        "print('Time: ', stop - start, \"sec\")"
      ],
      "execution_count": 70,
      "outputs": [
        {
          "output_type": "stream",
          "text": [
            "Time:  1.5535735829998885 sec\n"
          ],
          "name": "stdout"
        }
      ]
    },
    {
      "cell_type": "code",
      "metadata": {
        "colab": {
          "base_uri": "https://localhost:8080/"
        },
        "id": "HGf9TMXhNuxP",
        "outputId": "4a4e81a2-2226-4fa0-d6fb-d58aef242161"
      },
      "source": [
        "# Python implementation of Assignment 3 part 2 code Condition 1\n",
        "import numpy as np\n",
        "import numpy as np\n",
        "import timeit\n",
        "\n",
        "start = timeit.default_timer()\n",
        "m=500\n",
        "n=500\n",
        "k=400\n",
        "c=100\n",
        "b=np.random.rand(n,k)\n",
        "\n",
        "for i in range (c):  \n",
        "  a=np.random.rand(m,n)  \n",
        "  c=a.dot(b) \n",
        "\n",
        "stop = timeit.default_timer()\n",
        "print('Time: ', stop - start, \"sec\")"
      ],
      "execution_count": 71,
      "outputs": [
        {
          "output_type": "stream",
          "text": [
            "Time:  1.1087117890001537 sec\n"
          ],
          "name": "stdout"
        }
      ]
    },
    {
      "cell_type": "code",
      "metadata": {
        "colab": {
          "base_uri": "https://localhost:8080/"
        },
        "id": "6yB2snGeNvo6",
        "outputId": "9af5b0d0-9fd3-443b-cf68-a867e1c701e0"
      },
      "source": [
        "# Python implementation of Assignment 3 part 2 code Condition 2\n",
        "import numpy as np\n",
        "import timeit\n",
        "\n",
        "start = timeit.default_timer()\n",
        "m=50\n",
        "n=50\n",
        "k=20\n",
        "c=5000 \n",
        "b=np.random.rand(n,k)\n",
        "\n",
        "for i in range (c):  \n",
        "  a=np.random.rand(m,n)\n",
        "  c=a.dot(b) \n",
        "\n",
        "stop = timeit.default_timer()\n",
        "print('Time: ', stop - start, \"sec\")"
      ],
      "execution_count": 72,
      "outputs": [
        {
          "output_type": "stream",
          "text": [
            "Time:  0.20323767700028839 sec\n"
          ],
          "name": "stdout"
        }
      ]
    },
    {
      "cell_type": "code",
      "metadata": {
        "colab": {
          "base_uri": "https://localhost:8080/"
        },
        "id": "xrqoFW22NwV5",
        "outputId": "7f61ae69-c5da-4ed5-a647-a9e5302b8f8b"
      },
      "source": [
        "# Python implementation of Assignment 3 part 2 code Condition 3\n",
        "import numpy as np\n",
        "import timeit\n",
        "\n",
        "start = timeit.default_timer()\n",
        "m=5\n",
        "n=4000\n",
        "k=9\n",
        "c=1000 \n",
        "\n",
        "b=np.random.rand(n,k)\n",
        "\n",
        "for i in range (c):  \n",
        "  a=np.random.rand(m,n)\n",
        "  c=a.dot(b) \n",
        "\n",
        "stop = timeit.default_timer()\n",
        "print('Time: ', stop - start, \"sec\")"
      ],
      "execution_count": 73,
      "outputs": [
        {
          "output_type": "stream",
          "text": [
            "Time:  0.2633414600004471 sec\n"
          ],
          "name": "stdout"
        }
      ]
    },
    {
      "cell_type": "code",
      "metadata": {
        "colab": {
          "base_uri": "https://localhost:8080/"
        },
        "id": "tM5j62cRzhed",
        "outputId": "61d429ec-84ca-4c22-b3bc-531d3bbbf04b"
      },
      "source": [
        "# Python implementation of Assignment 4 code\n",
        "import numpy as np\n",
        "import timeit\n",
        "\n",
        "start = timeit.default_timer()\n",
        "m=500\n",
        "n=500\n",
        "k=400\n",
        "c=1000 \n",
        "\n",
        "for i in range (c):  \n",
        "  a=np.random.rand(m,n)\n",
        "  b=np.random.rand(n,k)\n",
        "  c=a.dot(b) \n",
        "\n",
        "stop = timeit.default_timer()\n",
        "print('Time: ', stop - start, \"sec\")"
      ],
      "execution_count": 75,
      "outputs": [
        {
          "output_type": "stream",
          "text": [
            "Time:  13.854688256999907 sec\n"
          ],
          "name": "stdout"
        }
      ]
    }
  ]
}